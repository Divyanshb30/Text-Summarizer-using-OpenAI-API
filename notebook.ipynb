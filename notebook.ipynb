{
 "cells": [
  {
   "cell_type": "code",
   "execution_count": 1,
   "id": "5740ea00",
   "metadata": {},
   "outputs": [],
   "source": [
    "import os\n",
    "import requests\n",
    "from dotenv import load_dotenv\n",
    "from bs4 import BeautifulSoup\n",
    "from IPython.display import display, Markdown\n",
    "from openai import OpenAI"
   ]
  },
  {
   "cell_type": "code",
   "execution_count": 2,
   "id": "97c036bf",
   "metadata": {},
   "outputs": [],
   "source": [
    "load_dotenv(override=True)\n",
    "api_key = os.getenv(\"OPENAI_API_KEY\")"
   ]
  },
  {
   "cell_type": "code",
   "execution_count": 3,
   "id": "9721fe3f",
   "metadata": {},
   "outputs": [],
   "source": [
    "openai = OpenAI()"
   ]
  },
  {
   "cell_type": "code",
   "execution_count": 5,
   "id": "747cc45b",
   "metadata": {},
   "outputs": [
    {
     "name": "stdout",
     "output_type": "stream",
     "text": [
      "Hello! I'm just a computer program, so I don't have feelings, but I'm here and ready to help you. How can I assist you today?\n"
     ]
    }
   ],
   "source": [
    "message  = \"Hello, how are you\"\n",
    "response = openai.chat.completions.create(\n",
    "    model=\"gpt-4o-mini\",\n",
    "    messages = [{\n",
    "        \"role\": \"user\",\n",
    "        \"content\": message\n",
    "    }]\n",
    ")\n",
    "print(response.choices[0].message.content)"
   ]
  },
  {
   "cell_type": "code",
   "execution_count": 17,
   "id": "32fb804a",
   "metadata": {},
   "outputs": [
    {
     "name": "stdout",
     "output_type": "stream",
     "text": [
      "Astronomy Picture of the Day\n",
      "\n",
      "Astronomy Picture of the Day\n",
      "Discover the cosmos!\n",
      "Each day a different image or photograph of our fascinating universe is featured, along with a brief explanation written by a professional astronomer.\n",
      "2025 August 13\n",
      "Trapezium: In the Heart of Orion\n",
      "Image Credit:\n",
      "Data:\n",
      "Hubble Legacy Archive\n",
      ",\n",
      "Processing:\n",
      "Robert Gendler\n",
      "Explanation:\n",
      "What lies in the heart of Orion? \n",
      "\n",
      "Trapezium: four bright stars, that can be found near the center of\n",
      "this sharp cosmic portrait\n",
      ".\n",
      "\n",
      "Gathered within a region about 1.5 light-years in radius,\n",
      "these stars dominate the core of the dense\n",
      "Orion Nebula\n",
      "Star Cluster.\n",
      "Ultraviolet\n",
      "ionizing radiation from the\n",
      "Trapezium stars\n",
      ",\n",
      "mostly from the brightest star\n",
      "Theta-1\n",
      "Orionis C\n",
      "powers the complex star forming region's entire visible glow.\n",
      "\n",
      "About three million years old, the Orion Nebula Cluster was\n",
      "even more\n",
      "compact\n",
      "in its younger years and a\n",
      "dynamical study\n",
      "indicates that\n",
      "runaway stellar collisions\n",
      "at an earlier age may have formed a black hole\n",
      "with more than 100 times the mass of\n",
      "the Sun\n",
      ".\n",
      "\n",
      "The presence of a\n",
      "black hole\n",
      "within the cluster\n",
      "could explain the observed high velocities of the\n",
      "Trapezium stars\n",
      ".\n",
      "\n",
      "The Orion Nebula's distance of some 1,500\n",
      "light-years\n",
      "make it one of the\n",
      "closest candidate black holes\n",
      "to Earth.\n",
      "Tomorrow's picture:\n",
      "when the Sky is serene and the Moon absent\n",
      "<\n",
      "|\n",
      "Archive\n",
      "|\n",
      "Submissions\n",
      "|\n",
      "Index\n",
      "|\n",
      "Search\n",
      "|\n",
      "Calendar\n",
      "|\n",
      "RSS\n",
      "|\n",
      "Education\n",
      "|\n",
      "About APOD\n",
      "|\n",
      "Discuss\n",
      "|\n",
      ">\n",
      "Authors & editors:\n",
      "Robert Nemiroff\n",
      "(\n",
      "MTU\n",
      ") &\n",
      "Jerry Bonnell\n",
      "(\n",
      "UMCP\n",
      ")\n",
      "NASA Official:\n",
      "Amber Straughn\n",
      "Specific rights apply\n",
      ".\n",
      "NASA Web Privacy\n",
      ",\n",
      "Accessibility\n",
      ",\n",
      "Notices\n",
      ";\n",
      "A service of:\n",
      "ASD\n",
      "at\n",
      "NASA\n",
      "/\n",
      "GSFC\n",
      ",\n",
      "NASA Science Activation\n",
      "&\n",
      "Michigan Tech. U.\n"
     ]
    }
   ],
   "source": [
    "headers = {\n",
    " \"User-Agent\": \"Mozilla/5.0 (Windows NT 10.0; Win64; x64) AppleWebKit/537.36 (KHTML, like Gecko) Chrome/117.0.0.0 Safari/537.36\"\n",
    "}\n",
    "class Website:\n",
    "    def __init__(self, url):\n",
    "        self.url = url\n",
    "        response = requests.get(url, headers=headers)\n",
    "        soup = BeautifulSoup(response.content, 'html.parser')\n",
    "        self.title = soup.title.string if soup.title else 'No title found'\n",
    "        for irrelevant in soup.body([\"script\", \"style\", \"img\", \"input\"]):\n",
    "            irrelevant.decompose()\n",
    "        self.text = soup.body.get_text(separator='\\n', strip=True)\n",
    "\n",
    "nasa = Website(\"https://apod.nasa.gov/apod/astropix.html\")\n",
    "print(nasa.title)\n",
    "print(nasa.text) "
   ]
  },
  {
   "cell_type": "code",
   "execution_count": 18,
   "id": "47e602bd",
   "metadata": {},
   "outputs": [],
   "source": [
    "system_prompt = \"You are an assistant that analyzes the contents of a website \\\n",
    "and provides a short summary, ignoring text that might be navigation related. \\\n",
    "Respond in markdown.\"\n",
    "\n",
    "def user_prompt(website):\n",
    "    return f\"Analyze the following website with title {website.title} and summarize its content:\\n\\n{website.text}\""
   ]
  },
  {
   "cell_type": "code",
   "execution_count": 19,
   "id": "bc55b407",
   "metadata": {},
   "outputs": [],
   "source": [
    "def messages_for(website):\n",
    "    return [\n",
    "        {\"role\": \"system\", \"content\": system_prompt},\n",
    "        {\"role\": \"user\", \"content\": user_prompt(website)}\n",
    "    ]\n",
    "\n",
    "\n",
    "def summarize_text(url):\n",
    "    website = Website(url)\n",
    "    response = openai.chat.completions.create(\n",
    "        model=\"gpt-4o-mini\",\n",
    "        messages=messages_for(website)\n",
    "    )\n",
    "\n",
    "    return Markdown(response.choices[0].message.content)"
   ]
  },
  {
   "cell_type": "code",
   "execution_count": 20,
   "id": "0703c099",
   "metadata": {},
   "outputs": [
    {
     "data": {
      "text/markdown": [
       "# Astronomy Picture of the Day Summary\n",
       "\n",
       "**Title:** Astronomy Picture of the Day\n",
       "\n",
       "**Content Overview:**\n",
       "The Astronomy Picture of the Day (APOD) features a different stunning image or photograph of the universe each day, paired with a detailed explanation from a professional astronomer. \n",
       "\n",
       "**Featured Entry (2025 August 13):** \n",
       "The day's image highlights the **Trapezium**, a cluster of four bright stars located in the heart of the **Orion Nebula**. This star cluster, approximately **1.5 light-years** in radius, plays a crucial role in illuminating the surrounding star-forming region through ultraviolet radiation emitted primarily by the star **Theta-1 Orionis C**.\n",
       "\n",
       "**Key Points:**\n",
       "- The **Orion Nebula Cluster** is around **three million years old** and was once more closely packed, contributing to dynamic stellar interactions that may have resulted in the formation of a **black hole** over **100 solar masses**.\n",
       "- This potential black hole might account for the rapid motion of the Trapezium stars.\n",
       "- The Orion Nebula is located about **1,500 light-years** from Earth, making it one of the nearest known candidate black holes.\n",
       "\n",
       "The platform encourages exploration of the cosmos and provides insights into astrophysical phenomena through daily curated content."
      ],
      "text/plain": [
       "<IPython.core.display.Markdown object>"
      ]
     },
     "metadata": {},
     "output_type": "display_data"
    }
   ],
   "source": [
    "display(summarize_text(\"https://apod.nasa.gov/apod/astropix.html\"))"
   ]
  },
  {
   "cell_type": "code",
   "execution_count": null,
   "id": "dcfef067",
   "metadata": {},
   "outputs": [],
   "source": []
  }
 ],
 "metadata": {
  "kernelspec": {
   "display_name": "llms",
   "language": "python",
   "name": "python3"
  },
  "language_info": {
   "codemirror_mode": {
    "name": "ipython",
    "version": 3
   },
   "file_extension": ".py",
   "mimetype": "text/x-python",
   "name": "python",
   "nbconvert_exporter": "python",
   "pygments_lexer": "ipython3",
   "version": "3.11.13"
  }
 },
 "nbformat": 4,
 "nbformat_minor": 5
}
